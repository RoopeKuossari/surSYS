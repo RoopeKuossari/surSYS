{
 "cells": [
  {
   "cell_type": "code",
   "execution_count": 1,
   "id": "676cc0a4",
   "metadata": {},
   "outputs": [],
   "source": [
    "import numpy as np\n",
    "import pandas as pd\n",
    "\n",
    "# visualization\n",
    "import matplotlib.pyplot as plt\n",
    "import seaborn as sns\n",
    "\n",
    "# computer vision library\n",
    "import cv2\n",
    "\n",
    "# glob\n",
    "from glob import glob"
   ]
  },
  {
   "cell_type": "code",
   "execution_count": 2,
   "id": "a7c09209",
   "metadata": {},
   "outputs": [],
   "source": [
    "fpath = (\n",
    "    glob('./src/data/images/crop/female/**/*.jpg', recursive=True) +\n",
    "    glob('./src/data/images/crop/female/**/*.jpeg', recursive=True) +\n",
    "    glob('./src/data/images/crop/female/**/*.png', recursive=True)\n",
    ")\n",
    "mpath = (\n",
    "    glob('./src/data/images/crop/male/**/*.jpg', recursive=True) +\n",
    "    glob('./src/data/images/crop/male/**/*.jpeg', recursive=True) +\n",
    "    glob('./src/data/images/crop/male/**/*.png', recursive=True)\n",
    ")"
   ]
  },
  {
   "cell_type": "code",
   "execution_count": 3,
   "id": "7254a026",
   "metadata": {},
   "outputs": [],
   "source": [
    "def extract_identity(path):\n",
    "    parts = path.replace(\"\\\\\", \"/\").split('/')\n",
    "    if 'known' in parts:\n",
    "        return parts[parts.index('known') + 1]  # e.g., \"julia\" or \"roope\"\n",
    "    elif 'unknown' in parts:\n",
    "        return 'unknown'\n",
    "    return 'unknown'  # fallback"
   ]
  },
  {
   "cell_type": "code",
   "execution_count": 4,
   "id": "433d2773",
   "metadata": {},
   "outputs": [],
   "source": [
    "df_female = pd.DataFrame(fpath, columns=['filepath'])\n",
    "df_female['gender'] = 'female'\n",
    "df_female['identity'] = df_female['filepath'].apply(extract_identity)\n",
    "\n",
    "df_male = pd.DataFrame(mpath, columns=['filepath'])\n",
    "df_male['gender'] = 'male'\n",
    "df_male['identity'] = df_male['filepath'].apply(extract_identity)"
   ]
  },
  {
   "cell_type": "code",
   "execution_count": 5,
   "id": "53b34ee3",
   "metadata": {},
   "outputs": [
    {
     "name": "stdout",
     "output_type": "stream",
     "text": [
      "✅ Number of female images found: 2606\n",
      "✅ Number of male images found: 2181\n",
      "👀 First few female paths: ['./src/data/images/crop/female\\\\unknown\\\\female_0.jpg', './src/data/images/crop/female\\\\unknown\\\\female_1.jpg', './src/data/images/crop/female\\\\unknown\\\\female_100.jpg', './src/data/images/crop/female\\\\unknown\\\\female_1002.jpg', './src/data/images/crop/female\\\\unknown\\\\female_1005.jpg']\n",
      "👀 First few male paths: ['./src/data/images/crop/male\\\\known\\\\Roope\\\\roope.jpg', './src/data/images/crop/male\\\\unknown\\\\male_0.jpg', './src/data/images/crop/male\\\\unknown\\\\male_1.jpg', './src/data/images/crop/male\\\\unknown\\\\male_1006.jpg', './src/data/images/crop/male\\\\unknown\\\\male_1008.jpg']\n"
     ]
    }
   ],
   "source": [
    "df = pd.concat((df_female, df_male), axis=0, ignore_index=True)\n",
    "df.head()\n",
    "print(\"✅ Number of female images found:\", len(fpath))\n",
    "print(\"✅ Number of male images found:\", len(mpath))\n",
    "print(\"👀 First few female paths:\", fpath[:5])\n",
    "print(\"👀 First few male paths:\", mpath[:5])"
   ]
  },
  {
   "cell_type": "code",
   "execution_count": 6,
   "id": "85031e96",
   "metadata": {},
   "outputs": [
    {
     "data": {
      "text/html": [
       "<div>\n",
       "<style scoped>\n",
       "    .dataframe tbody tr th:only-of-type {\n",
       "        vertical-align: middle;\n",
       "    }\n",
       "\n",
       "    .dataframe tbody tr th {\n",
       "        vertical-align: top;\n",
       "    }\n",
       "\n",
       "    .dataframe thead th {\n",
       "        text-align: right;\n",
       "    }\n",
       "</style>\n",
       "<table border=\"1\" class=\"dataframe\">\n",
       "  <thead>\n",
       "    <tr style=\"text-align: right;\">\n",
       "      <th></th>\n",
       "      <th>filepath</th>\n",
       "      <th>gender</th>\n",
       "      <th>identity</th>\n",
       "    </tr>\n",
       "  </thead>\n",
       "  <tbody>\n",
       "    <tr>\n",
       "      <th>4782</th>\n",
       "      <td>./src/data/images/crop/male\\known\\Roope\\6fab94...</td>\n",
       "      <td>male</td>\n",
       "      <td>Roope</td>\n",
       "    </tr>\n",
       "    <tr>\n",
       "      <th>4783</th>\n",
       "      <td>./src/data/images/crop/male\\known\\Roope\\cc9775...</td>\n",
       "      <td>male</td>\n",
       "      <td>Roope</td>\n",
       "    </tr>\n",
       "    <tr>\n",
       "      <th>4784</th>\n",
       "      <td>./src/data/images/crop/male\\known\\Roope\\IMG_03...</td>\n",
       "      <td>male</td>\n",
       "      <td>Roope</td>\n",
       "    </tr>\n",
       "    <tr>\n",
       "      <th>4785</th>\n",
       "      <td>./src/data/images/crop/male\\known\\Roope\\IMG_17...</td>\n",
       "      <td>male</td>\n",
       "      <td>Roope</td>\n",
       "    </tr>\n",
       "    <tr>\n",
       "      <th>4786</th>\n",
       "      <td>./src/data/images/crop/male\\known\\Roope\\IMG_17...</td>\n",
       "      <td>male</td>\n",
       "      <td>Roope</td>\n",
       "    </tr>\n",
       "  </tbody>\n",
       "</table>\n",
       "</div>"
      ],
      "text/plain": [
       "                                               filepath gender identity\n",
       "4782  ./src/data/images/crop/male\\known\\Roope\\6fab94...   male    Roope\n",
       "4783  ./src/data/images/crop/male\\known\\Roope\\cc9775...   male    Roope\n",
       "4784  ./src/data/images/crop/male\\known\\Roope\\IMG_03...   male    Roope\n",
       "4785  ./src/data/images/crop/male\\known\\Roope\\IMG_17...   male    Roope\n",
       "4786  ./src/data/images/crop/male\\known\\Roope\\IMG_17...   male    Roope"
      ]
     },
     "execution_count": 6,
     "metadata": {},
     "output_type": "execute_result"
    }
   ],
   "source": [
    "df.tail()"
   ]
  },
  {
   "cell_type": "code",
   "execution_count": 7,
   "id": "18174011",
   "metadata": {},
   "outputs": [],
   "source": [
    "def get_size(path):\n",
    "    img = cv2.imread(path)\n",
    "    return img.shape[0] if img is not None else 0"
   ]
  },
  {
   "cell_type": "code",
   "execution_count": 8,
   "id": "3e2eb970",
   "metadata": {},
   "outputs": [],
   "source": [
    "df['dimension'] = df['filepath'].apply(get_size)"
   ]
  },
  {
   "cell_type": "code",
   "execution_count": 9,
   "id": "8c4eeb8e",
   "metadata": {},
   "outputs": [],
   "source": [
    "df_filter = df.query('dimension > 60')"
   ]
  },
  {
   "cell_type": "code",
   "execution_count": null,
   "id": "b4e4568f",
   "metadata": {},
   "outputs": [],
   "source": [
    "def structuring(path):\n",
    "    try:\n",
    "        img = cv2.imread(path)\n",
    "        gray = cv2.cvtColor(img, cv2.COLOR_BGR2GRAY)\n",
    "        size = gray.shape[0]\n",
    "        if size >= 100:\n",
    "            gray_resize = cv2.resize(gray, (100,100), cv2.INTER_AREA)\n",
    "        else:\n",
    "            gray_resize = cv2.resize(gray, (100,100), cv2.INTER_CUBIC)\n",
    "        return gray_resize.flatten()\n",
    "    except:\n",
    "        return None"
   ]
  },
  {
   "cell_type": "code",
   "execution_count": 11,
   "id": "ef995aec",
   "metadata": {},
   "outputs": [
    {
     "name": "stderr",
     "output_type": "stream",
     "text": [
      "C:\\Users\\roope\\AppData\\Local\\Temp\\ipykernel_55908\\3588874944.py:1: SettingWithCopyWarning: \n",
      "A value is trying to be set on a copy of a slice from a DataFrame.\n",
      "Try using .loc[row_indexer,col_indexer] = value instead\n",
      "\n",
      "See the caveats in the documentation: https://pandas.pydata.org/pandas-docs/stable/user_guide/indexing.html#returning-a-view-versus-a-copy\n",
      "  df_filter['data'] = df_filter['filepath'].apply(structuring)\n"
     ]
    }
   ],
   "source": [
    "\n",
    "df_filter['data'] = df_filter['filepath'].apply(structuring)"
   ]
  },
  {
   "cell_type": "code",
   "execution_count": 12,
   "id": "c9fa3779",
   "metadata": {},
   "outputs": [],
   "source": [
    "data = df_filter['data'].apply(pd.Series)\n",
    "data.columns = [f\"pixel_{i}\" for i in data.columns]\n"
   ]
  },
  {
   "cell_type": "code",
   "execution_count": 13,
   "id": "8d7a0eca",
   "metadata": {},
   "outputs": [],
   "source": [
    "data = data / 255.0"
   ]
  },
  {
   "cell_type": "code",
   "execution_count": 14,
   "id": "fbec3a6d",
   "metadata": {},
   "outputs": [],
   "source": [
    "data['gender'] = df_filter['gender'].values\n",
    "data['identity'] = df_filter['identity'].values"
   ]
  },
  {
   "cell_type": "code",
   "execution_count": 15,
   "id": "c0e915fa",
   "metadata": {},
   "outputs": [],
   "source": [
    "data.dropna(inplace=True)"
   ]
  },
  {
   "cell_type": "code",
   "execution_count": 19,
   "id": "084f1737",
   "metadata": {},
   "outputs": [
    {
     "data": {
      "text/plain": [
       "identity\n",
       "unknown    4761\n",
       "Julia        20\n",
       "Roope         6\n",
       "Name: count, dtype: int64"
      ]
     },
     "execution_count": 19,
     "metadata": {},
     "output_type": "execute_result"
    }
   ],
   "source": [
    "dist_identity = df['identity'].value_counts()\n",
    "dist_identity"
   ]
  },
  {
   "cell_type": "code",
   "execution_count": 20,
   "id": "bd51faab",
   "metadata": {},
   "outputs": [
    {
     "data": {
      "text/plain": [
       "gender\n",
       "female    2606\n",
       "male      2181\n",
       "Name: count, dtype: int64"
      ]
     },
     "execution_count": 20,
     "metadata": {},
     "output_type": "execute_result"
    }
   ],
   "source": [
    "dist_gender = df['gender'].value_counts()\n",
    "dist_gender\n"
   ]
  },
  {
   "cell_type": "code",
   "execution_count": 21,
   "id": "e3bd874d",
   "metadata": {},
   "outputs": [
    {
     "data": {
      "image/png": "[encoded data removed]",
      "text/plain": [
       "<Figure size 640x480 with 2 Axes>"
      ]
     },
     "metadata": {},
     "output_type": "display_data"
    }
   ],
   "source": [
    "fig,ax = plt.subplots(nrows=1,ncols=2)\n",
    "dist_gender.plot(kind='bar',ax=ax[0])\n",
    "dist_gender.plot(kind='pie',ax=ax[1],autopct='%0.0f%%')\n",
    "plt.show()"
   ]
  },
  {
   "cell_type": "code",
   "execution_count": 22,
   "id": "24ade9d5",
   "metadata": {},
   "outputs": [
    {
     "data": {
      "image/png": "[encoded data removed]",
      "text/plain": [
       "<Figure size 1200x600 with 2 Axes>"
      ]
     },
     "metadata": {},
     "output_type": "display_data"
    }
   ],
   "source": [
    "plt.figure(figsize=(12,6))\n",
    "plt.subplot(2,1,1)\n",
    "sns.histplot(df['dimension'])\n",
    "plt.subplot(2,1,2)\n",
    "sns.boxplot(df['dimension'])\n",
    "plt.show()"
   ]
  },
  {
   "cell_type": "code",
   "execution_count": 23,
   "id": "af66812d",
   "metadata": {},
   "outputs": [
    {
     "data": {
      "text/plain": [
       "<seaborn.axisgrid.FacetGrid at 0x1f9a19b0b50>"
      ]
     },
     "execution_count": 23,
     "metadata": {},
     "output_type": "execute_result"
    },
    {
     "data": {
      "image/png": "[encoded data removed]",
      "text/plain": [
       "<Figure size 511.111x500 with 1 Axes>"
      ]
     },
     "metadata": {},
     "output_type": "display_data"
    }
   ],
   "source": [
    "sns.catplot(data=df,x='gender',y='dimension',kind='box')"
   ]
  },
  {
   "cell_type": "code",
   "execution_count": null,
   "id": "8b27fb70",
   "metadata": {},
   "outputs": [],
   "source": []
  }
 ],
 "metadata": {
  "kernelspec": {
   "display_name": "surSYS",
   "language": "python",
   "name": "python3"
  },
  "language_info": {
   "codemirror_mode": {
    "name": "ipython",
    "version": 3
   },
   "file_extension": ".py",
   "mimetype": "text/x-python",
   "name": "python",
   "nbconvert_exporter": "python",
   "pygments_lexer": "ipython3",
   "version": "3.10.8"
  }
 },
 "nbformat": 4,
 "nbformat_minor": 5
}
